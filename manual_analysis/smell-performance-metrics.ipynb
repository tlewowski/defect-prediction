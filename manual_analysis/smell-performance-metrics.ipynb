{
 "cells": [
  {
   "cell_type": "code",
   "execution_count": 7,
   "metadata": {
    "collapsed": true
   },
   "outputs": [
    {
     "data": {
      "text/plain": "                                Unnamed: 0                                  \\\n                                     count    mean         std  min    25%   \nsmell      metric_set                                                        \nblob       all-non-null-numeric      500.0  1499.0  866.890997  2.0  750.5   \n           javametrics-numeric       500.0  1498.0  866.890997  1.0  749.5   \n           pmd                       500.0  1497.0  866.890997  0.0  748.5   \ndata class all-non-null-numeric      500.0  1502.0  866.890997  5.0  753.5   \n           javametrics-numeric       500.0  1501.0  866.890997  4.0  752.5   \n           pmd                       500.0  1500.0  866.890997  3.0  751.5   \n\n                                                           mcc            ...  \\\n                                    50%     75%     max  count      mean  ...   \nsmell      metric_set                                                     ...   \nblob       all-non-null-numeric  1499.0  2247.5  2996.0  500.0  0.469011  ...   \n           javametrics-numeric   1498.0  2246.5  2995.0  500.0  0.470581  ...   \n           pmd                   1497.0  2245.5  2994.0  500.0  0.420094  ...   \ndata class all-non-null-numeric  1502.0  2250.5  2999.0  500.0  0.541551  ...   \n           javametrics-numeric   1501.0  2249.5  2998.0  500.0  0.479803  ...   \n           pmd                   1500.0  2248.5  2997.0  500.0  0.547149  ...   \n\n                                      fpr            fnr.1            \\\n                                      75%       max  count      mean   \nsmell      metric_set                                                  \nblob       all-non-null-numeric  0.097561  0.121951  500.0  0.060423   \n           javametrics-numeric   0.088889  0.118519  500.0  0.054207   \n           pmd                   0.085561  0.117647  500.0  0.043626   \ndata class all-non-null-numeric  0.097561  0.138211  500.0  0.070163   \n           javametrics-numeric   0.095588  0.147059  500.0  0.060662   \n           pmd                   0.079787  0.111702  500.0  0.071766   \n\n                                                                         \\\n                                      std       min       25%       50%   \nsmell      metric_set                                                     \nblob       all-non-null-numeric  0.015176  0.024390  0.048780  0.056911   \n           javametrics-numeric   0.015161  0.014815  0.044444  0.051852   \n           pmd                   0.011797  0.005348  0.037433  0.042781   \ndata class all-non-null-numeric  0.019547  0.016260  0.056911  0.073171   \n           javametrics-numeric   0.018585  0.000000  0.051471  0.058824   \n           pmd                   0.013780  0.031915  0.063830  0.074468   \n\n                                                     \n                                      75%       max  \nsmell      metric_set                                \nblob       all-non-null-numeric  0.073171  0.105691  \n           javametrics-numeric   0.066667  0.103704  \n           pmd                   0.053476  0.080214  \ndata class all-non-null-numeric  0.081301  0.130081  \n           javametrics-numeric   0.073529  0.117647  \n           pmd                   0.079787  0.111702  \n\n[6 rows x 88 columns]",
      "text/html": "<div>\n<style scoped>\n    .dataframe tbody tr th:only-of-type {\n        vertical-align: middle;\n    }\n\n    .dataframe tbody tr th {\n        vertical-align: top;\n    }\n\n    .dataframe thead tr th {\n        text-align: left;\n    }\n\n    .dataframe thead tr:last-of-type th {\n        text-align: right;\n    }\n</style>\n<table border=\"1\" class=\"dataframe\">\n  <thead>\n    <tr>\n      <th></th>\n      <th></th>\n      <th colspan=\"8\" halign=\"left\">Unnamed: 0</th>\n      <th colspan=\"2\" halign=\"left\">mcc</th>\n      <th>...</th>\n      <th colspan=\"2\" halign=\"left\">fpr</th>\n      <th colspan=\"8\" halign=\"left\">fnr.1</th>\n    </tr>\n    <tr>\n      <th></th>\n      <th></th>\n      <th>count</th>\n      <th>mean</th>\n      <th>std</th>\n      <th>min</th>\n      <th>25%</th>\n      <th>50%</th>\n      <th>75%</th>\n      <th>max</th>\n      <th>count</th>\n      <th>mean</th>\n      <th>...</th>\n      <th>75%</th>\n      <th>max</th>\n      <th>count</th>\n      <th>mean</th>\n      <th>std</th>\n      <th>min</th>\n      <th>25%</th>\n      <th>50%</th>\n      <th>75%</th>\n      <th>max</th>\n    </tr>\n    <tr>\n      <th>smell</th>\n      <th>metric_set</th>\n      <th></th>\n      <th></th>\n      <th></th>\n      <th></th>\n      <th></th>\n      <th></th>\n      <th></th>\n      <th></th>\n      <th></th>\n      <th></th>\n      <th></th>\n      <th></th>\n      <th></th>\n      <th></th>\n      <th></th>\n      <th></th>\n      <th></th>\n      <th></th>\n      <th></th>\n      <th></th>\n      <th></th>\n    </tr>\n  </thead>\n  <tbody>\n    <tr>\n      <th rowspan=\"3\" valign=\"top\">blob</th>\n      <th>all-non-null-numeric</th>\n      <td>500.0</td>\n      <td>1499.0</td>\n      <td>866.890997</td>\n      <td>2.0</td>\n      <td>750.5</td>\n      <td>1499.0</td>\n      <td>2247.5</td>\n      <td>2996.0</td>\n      <td>500.0</td>\n      <td>0.469011</td>\n      <td>...</td>\n      <td>0.097561</td>\n      <td>0.121951</td>\n      <td>500.0</td>\n      <td>0.060423</td>\n      <td>0.015176</td>\n      <td>0.024390</td>\n      <td>0.048780</td>\n      <td>0.056911</td>\n      <td>0.073171</td>\n      <td>0.105691</td>\n    </tr>\n    <tr>\n      <th>javametrics-numeric</th>\n      <td>500.0</td>\n      <td>1498.0</td>\n      <td>866.890997</td>\n      <td>1.0</td>\n      <td>749.5</td>\n      <td>1498.0</td>\n      <td>2246.5</td>\n      <td>2995.0</td>\n      <td>500.0</td>\n      <td>0.470581</td>\n      <td>...</td>\n      <td>0.088889</td>\n      <td>0.118519</td>\n      <td>500.0</td>\n      <td>0.054207</td>\n      <td>0.015161</td>\n      <td>0.014815</td>\n      <td>0.044444</td>\n      <td>0.051852</td>\n      <td>0.066667</td>\n      <td>0.103704</td>\n    </tr>\n    <tr>\n      <th>pmd</th>\n      <td>500.0</td>\n      <td>1497.0</td>\n      <td>866.890997</td>\n      <td>0.0</td>\n      <td>748.5</td>\n      <td>1497.0</td>\n      <td>2245.5</td>\n      <td>2994.0</td>\n      <td>500.0</td>\n      <td>0.420094</td>\n      <td>...</td>\n      <td>0.085561</td>\n      <td>0.117647</td>\n      <td>500.0</td>\n      <td>0.043626</td>\n      <td>0.011797</td>\n      <td>0.005348</td>\n      <td>0.037433</td>\n      <td>0.042781</td>\n      <td>0.053476</td>\n      <td>0.080214</td>\n    </tr>\n    <tr>\n      <th rowspan=\"3\" valign=\"top\">data class</th>\n      <th>all-non-null-numeric</th>\n      <td>500.0</td>\n      <td>1502.0</td>\n      <td>866.890997</td>\n      <td>5.0</td>\n      <td>753.5</td>\n      <td>1502.0</td>\n      <td>2250.5</td>\n      <td>2999.0</td>\n      <td>500.0</td>\n      <td>0.541551</td>\n      <td>...</td>\n      <td>0.097561</td>\n      <td>0.138211</td>\n      <td>500.0</td>\n      <td>0.070163</td>\n      <td>0.019547</td>\n      <td>0.016260</td>\n      <td>0.056911</td>\n      <td>0.073171</td>\n      <td>0.081301</td>\n      <td>0.130081</td>\n    </tr>\n    <tr>\n      <th>javametrics-numeric</th>\n      <td>500.0</td>\n      <td>1501.0</td>\n      <td>866.890997</td>\n      <td>4.0</td>\n      <td>752.5</td>\n      <td>1501.0</td>\n      <td>2249.5</td>\n      <td>2998.0</td>\n      <td>500.0</td>\n      <td>0.479803</td>\n      <td>...</td>\n      <td>0.095588</td>\n      <td>0.147059</td>\n      <td>500.0</td>\n      <td>0.060662</td>\n      <td>0.018585</td>\n      <td>0.000000</td>\n      <td>0.051471</td>\n      <td>0.058824</td>\n      <td>0.073529</td>\n      <td>0.117647</td>\n    </tr>\n    <tr>\n      <th>pmd</th>\n      <td>500.0</td>\n      <td>1500.0</td>\n      <td>866.890997</td>\n      <td>3.0</td>\n      <td>751.5</td>\n      <td>1500.0</td>\n      <td>2248.5</td>\n      <td>2997.0</td>\n      <td>500.0</td>\n      <td>0.547149</td>\n      <td>...</td>\n      <td>0.079787</td>\n      <td>0.111702</td>\n      <td>500.0</td>\n      <td>0.071766</td>\n      <td>0.013780</td>\n      <td>0.031915</td>\n      <td>0.063830</td>\n      <td>0.074468</td>\n      <td>0.079787</td>\n      <td>0.111702</td>\n    </tr>\n  </tbody>\n</table>\n<p>6 rows × 88 columns</p>\n</div>"
     },
     "execution_count": 7,
     "metadata": {},
     "output_type": "execute_result"
    }
   ],
   "source": [
    "import pandas as pd\n",
    "\n",
    "models = pd.read_csv(filepath_or_buffer=\"../workdir-smell-experiment/final_stats.csv\", sep=\",\")\n",
    "models.groupby([\"smell\", \"metric_set\"]).describe()"
   ]
  }
 ],
 "metadata": {
  "kernelspec": {
   "display_name": "Python 3",
   "language": "python",
   "name": "python3"
  },
  "language_info": {
   "codemirror_mode": {
    "name": "ipython",
    "version": 2
   },
   "file_extension": ".py",
   "mimetype": "text/x-python",
   "name": "python",
   "nbconvert_exporter": "python",
   "pygments_lexer": "ipython2",
   "version": "2.7.6"
  }
 },
 "nbformat": 4,
 "nbformat_minor": 0
}
