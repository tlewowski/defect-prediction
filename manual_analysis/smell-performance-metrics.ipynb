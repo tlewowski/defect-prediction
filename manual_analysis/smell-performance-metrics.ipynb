{
 "cells": [
  {
   "cell_type": "code",
   "execution_count": 34,
   "outputs": [
    {
     "data": {
      "text/plain": "                                Unnamed: 0                              \\\n                                     count     mean          std   min   \nsmell      metric_set                                                    \nblob       all-non-null-numeric      500.0  14994.5  8668.909966  24.5   \n           javametrics-numeric       500.0  14984.5  8668.909966  14.5   \n           pmd                       500.0  14974.5  8668.909966   4.5   \ndata class all-non-null-numeric      500.0  15024.5  8668.909966  54.5   \n           javametrics-numeric       500.0  15014.5  8668.909966  44.5   \n           pmd                       500.0  15004.5  8668.909966  34.5   \n\n                                                                   fold_num  \\\n                                    25%      50%      75%      max    count   \nsmell      metric_set                                                         \nblob       all-non-null-numeric  7509.5  14994.5  22479.5  29964.5    500.0   \n           javametrics-numeric   7499.5  14984.5  22469.5  29954.5    500.0   \n           pmd                   7489.5  14974.5  22459.5  29944.5    500.0   \ndata class all-non-null-numeric  7539.5  15024.5  22509.5  29994.5    500.0   \n           javametrics-numeric   7529.5  15014.5  22499.5  29984.5    500.0   \n           pmd                   7519.5  15004.5  22489.5  29974.5    500.0   \n\n                                      ...  fit_time           score_time  \\\n                                mean  ...       75%       max      count   \nsmell      metric_set                 ...                                  \nblob       all-non-null-numeric  4.5  ...  0.002578  0.002782      500.0   \n           javametrics-numeric   4.5  ...  0.001545  0.001930      500.0   \n           pmd                   4.5  ...  0.001577  0.001762      500.0   \ndata class all-non-null-numeric  4.5  ...  0.002268  0.002582      500.0   \n           javametrics-numeric   4.5  ...  0.001391  0.001573      500.0   \n           pmd                   4.5  ...  0.001519  0.001708      500.0   \n\n                                                                         \\\n                                     mean       std       min       25%   \nsmell      metric_set                                                     \nblob       all-non-null-numeric  0.000258  0.000009  0.000243  0.000251   \n           javametrics-numeric   0.000253  0.000012  0.000237  0.000245   \n           pmd                   0.000253  0.000012  0.000238  0.000246   \ndata class all-non-null-numeric  0.000260  0.000009  0.000247  0.000254   \n           javametrics-numeric   0.000254  0.000012  0.000239  0.000246   \n           pmd                   0.000257  0.000010  0.000243  0.000250   \n\n                                                               \n                                      50%       75%       max  \nsmell      metric_set                                          \nblob       all-non-null-numeric  0.000255  0.000261  0.000299  \n           javametrics-numeric   0.000250  0.000256  0.000346  \n           pmd                   0.000250  0.000256  0.000354  \ndata class all-non-null-numeric  0.000258  0.000264  0.000323  \n           javametrics-numeric   0.000250  0.000257  0.000315  \n           pmd                   0.000254  0.000260  0.000308  \n\n[6 rows x 112 columns]",
      "text/html": "<div>\n<style scoped>\n    .dataframe tbody tr th:only-of-type {\n        vertical-align: middle;\n    }\n\n    .dataframe tbody tr th {\n        vertical-align: top;\n    }\n\n    .dataframe thead tr th {\n        text-align: left;\n    }\n\n    .dataframe thead tr:last-of-type th {\n        text-align: right;\n    }\n</style>\n<table border=\"1\" class=\"dataframe\">\n  <thead>\n    <tr>\n      <th></th>\n      <th></th>\n      <th colspan=\"8\" halign=\"left\">Unnamed: 0</th>\n      <th colspan=\"2\" halign=\"left\">fold_num</th>\n      <th>...</th>\n      <th colspan=\"2\" halign=\"left\">fit_time</th>\n      <th colspan=\"8\" halign=\"left\">score_time</th>\n    </tr>\n    <tr>\n      <th></th>\n      <th></th>\n      <th>count</th>\n      <th>mean</th>\n      <th>std</th>\n      <th>min</th>\n      <th>25%</th>\n      <th>50%</th>\n      <th>75%</th>\n      <th>max</th>\n      <th>count</th>\n      <th>mean</th>\n      <th>...</th>\n      <th>75%</th>\n      <th>max</th>\n      <th>count</th>\n      <th>mean</th>\n      <th>std</th>\n      <th>min</th>\n      <th>25%</th>\n      <th>50%</th>\n      <th>75%</th>\n      <th>max</th>\n    </tr>\n    <tr>\n      <th>smell</th>\n      <th>metric_set</th>\n      <th></th>\n      <th></th>\n      <th></th>\n      <th></th>\n      <th></th>\n      <th></th>\n      <th></th>\n      <th></th>\n      <th></th>\n      <th></th>\n      <th></th>\n      <th></th>\n      <th></th>\n      <th></th>\n      <th></th>\n      <th></th>\n      <th></th>\n      <th></th>\n      <th></th>\n      <th></th>\n      <th></th>\n    </tr>\n  </thead>\n  <tbody>\n    <tr>\n      <th rowspan=\"3\" valign=\"top\">blob</th>\n      <th>all-non-null-numeric</th>\n      <td>500.0</td>\n      <td>14994.5</td>\n      <td>8668.909966</td>\n      <td>24.5</td>\n      <td>7509.5</td>\n      <td>14994.5</td>\n      <td>22479.5</td>\n      <td>29964.5</td>\n      <td>500.0</td>\n      <td>4.5</td>\n      <td>...</td>\n      <td>0.002578</td>\n      <td>0.002782</td>\n      <td>500.0</td>\n      <td>0.000258</td>\n      <td>0.000009</td>\n      <td>0.000243</td>\n      <td>0.000251</td>\n      <td>0.000255</td>\n      <td>0.000261</td>\n      <td>0.000299</td>\n    </tr>\n    <tr>\n      <th>javametrics-numeric</th>\n      <td>500.0</td>\n      <td>14984.5</td>\n      <td>8668.909966</td>\n      <td>14.5</td>\n      <td>7499.5</td>\n      <td>14984.5</td>\n      <td>22469.5</td>\n      <td>29954.5</td>\n      <td>500.0</td>\n      <td>4.5</td>\n      <td>...</td>\n      <td>0.001545</td>\n      <td>0.001930</td>\n      <td>500.0</td>\n      <td>0.000253</td>\n      <td>0.000012</td>\n      <td>0.000237</td>\n      <td>0.000245</td>\n      <td>0.000250</td>\n      <td>0.000256</td>\n      <td>0.000346</td>\n    </tr>\n    <tr>\n      <th>pmd</th>\n      <td>500.0</td>\n      <td>14974.5</td>\n      <td>8668.909966</td>\n      <td>4.5</td>\n      <td>7489.5</td>\n      <td>14974.5</td>\n      <td>22459.5</td>\n      <td>29944.5</td>\n      <td>500.0</td>\n      <td>4.5</td>\n      <td>...</td>\n      <td>0.001577</td>\n      <td>0.001762</td>\n      <td>500.0</td>\n      <td>0.000253</td>\n      <td>0.000012</td>\n      <td>0.000238</td>\n      <td>0.000246</td>\n      <td>0.000250</td>\n      <td>0.000256</td>\n      <td>0.000354</td>\n    </tr>\n    <tr>\n      <th rowspan=\"3\" valign=\"top\">data class</th>\n      <th>all-non-null-numeric</th>\n      <td>500.0</td>\n      <td>15024.5</td>\n      <td>8668.909966</td>\n      <td>54.5</td>\n      <td>7539.5</td>\n      <td>15024.5</td>\n      <td>22509.5</td>\n      <td>29994.5</td>\n      <td>500.0</td>\n      <td>4.5</td>\n      <td>...</td>\n      <td>0.002268</td>\n      <td>0.002582</td>\n      <td>500.0</td>\n      <td>0.000260</td>\n      <td>0.000009</td>\n      <td>0.000247</td>\n      <td>0.000254</td>\n      <td>0.000258</td>\n      <td>0.000264</td>\n      <td>0.000323</td>\n    </tr>\n    <tr>\n      <th>javametrics-numeric</th>\n      <td>500.0</td>\n      <td>15014.5</td>\n      <td>8668.909966</td>\n      <td>44.5</td>\n      <td>7529.5</td>\n      <td>15014.5</td>\n      <td>22499.5</td>\n      <td>29984.5</td>\n      <td>500.0</td>\n      <td>4.5</td>\n      <td>...</td>\n      <td>0.001391</td>\n      <td>0.001573</td>\n      <td>500.0</td>\n      <td>0.000254</td>\n      <td>0.000012</td>\n      <td>0.000239</td>\n      <td>0.000246</td>\n      <td>0.000250</td>\n      <td>0.000257</td>\n      <td>0.000315</td>\n    </tr>\n    <tr>\n      <th>pmd</th>\n      <td>500.0</td>\n      <td>15004.5</td>\n      <td>8668.909966</td>\n      <td>34.5</td>\n      <td>7519.5</td>\n      <td>15004.5</td>\n      <td>22489.5</td>\n      <td>29974.5</td>\n      <td>500.0</td>\n      <td>4.5</td>\n      <td>...</td>\n      <td>0.001519</td>\n      <td>0.001708</td>\n      <td>500.0</td>\n      <td>0.000257</td>\n      <td>0.000010</td>\n      <td>0.000243</td>\n      <td>0.000250</td>\n      <td>0.000254</td>\n      <td>0.000260</td>\n      <td>0.000308</td>\n    </tr>\n  </tbody>\n</table>\n<p>6 rows × 112 columns</p>\n</div>"
     },
     "execution_count": 34,
     "metadata": {},
     "output_type": "execute_result"
    }
   ],
   "source": [
    "import pandas as pd\n",
    "\n",
    "models = pd.read_csv(filepath_or_buffer=\"../workdir/final_stats.csv\", sep=\",\")\n",
    "description = models.groupby([\"smell\", \"metric_set\", \"model_num\"]).mean(numeric_only=True).groupby([\"smell\", \"metric_set\"]).describe()\n",
    "\n",
    "description"
   ],
   "metadata": {
    "collapsed": false
   }
  },
  {
   "cell_type": "code",
   "execution_count": 38,
   "outputs": [
    {
     "data": {
      "text/plain": "                                      mcc                    \n                                      25%       50%       75%\nsmell      metric_set                                        \nblob       all-non-null-numeric  0.435863  0.444987  0.454713\n           javametrics-numeric   0.410084  0.418846  0.428088\n           pmd                   0.412189  0.420872  0.429714\ndata class all-non-null-numeric  0.509643  0.517040  0.523571\n           javametrics-numeric   0.286700  0.293435  0.299632\n           pmd                   0.501461  0.507789  0.513520",
      "text/html": "<div>\n<style scoped>\n    .dataframe tbody tr th:only-of-type {\n        vertical-align: middle;\n    }\n\n    .dataframe tbody tr th {\n        vertical-align: top;\n    }\n\n    .dataframe thead tr th {\n        text-align: left;\n    }\n\n    .dataframe thead tr:last-of-type th {\n        text-align: right;\n    }\n</style>\n<table border=\"1\" class=\"dataframe\">\n  <thead>\n    <tr>\n      <th></th>\n      <th></th>\n      <th colspan=\"3\" halign=\"left\">mcc</th>\n    </tr>\n    <tr>\n      <th></th>\n      <th></th>\n      <th>25%</th>\n      <th>50%</th>\n      <th>75%</th>\n    </tr>\n    <tr>\n      <th>smell</th>\n      <th>metric_set</th>\n      <th></th>\n      <th></th>\n      <th></th>\n    </tr>\n  </thead>\n  <tbody>\n    <tr>\n      <th rowspan=\"3\" valign=\"top\">blob</th>\n      <th>all-non-null-numeric</th>\n      <td>0.435863</td>\n      <td>0.444987</td>\n      <td>0.454713</td>\n    </tr>\n    <tr>\n      <th>javametrics-numeric</th>\n      <td>0.410084</td>\n      <td>0.418846</td>\n      <td>0.428088</td>\n    </tr>\n    <tr>\n      <th>pmd</th>\n      <td>0.412189</td>\n      <td>0.420872</td>\n      <td>0.429714</td>\n    </tr>\n    <tr>\n      <th rowspan=\"3\" valign=\"top\">data class</th>\n      <th>all-non-null-numeric</th>\n      <td>0.509643</td>\n      <td>0.517040</td>\n      <td>0.523571</td>\n    </tr>\n    <tr>\n      <th>javametrics-numeric</th>\n      <td>0.286700</td>\n      <td>0.293435</td>\n      <td>0.299632</td>\n    </tr>\n    <tr>\n      <th>pmd</th>\n      <td>0.501461</td>\n      <td>0.507789</td>\n      <td>0.513520</td>\n    </tr>\n  </tbody>\n</table>\n</div>"
     },
     "execution_count": 38,
     "metadata": {},
     "output_type": "execute_result"
    }
   ],
   "source": [
    "results = description.filter(items=[\"smell\", (\"mcc\", \"25%\"), (\"mcc\", \"50%\"), (\"mcc\", \"75%\")])\n",
    "results"
   ],
   "metadata": {
    "collapsed": false
   }
  },
  {
   "cell_type": "code",
   "execution_count": 41,
   "outputs": [],
   "source": [],
   "metadata": {
    "collapsed": false
   }
  }
 ],
 "metadata": {
  "kernelspec": {
   "display_name": "Python 3",
   "language": "python",
   "name": "python3"
  },
  "language_info": {
   "codemirror_mode": {
    "name": "ipython",
    "version": 2
   },
   "file_extension": ".py",
   "mimetype": "text/x-python",
   "name": "python",
   "nbconvert_exporter": "python",
   "pygments_lexer": "ipython2",
   "version": "2.7.6"
  }
 },
 "nbformat": 4,
 "nbformat_minor": 0
}
