{
 "cells": [
  {
   "cell_type": "code",
   "execution_count": 33,
   "metadata": {
    "collapsed": true
   },
   "outputs": [
    {
     "data": {
      "text/plain": "           \\# commits  \\# buggy  \\# fixes  \\# non-buggy year range\nproject                                                           \nActiveMQ         6126      1404       390          4722  2005-2019\nCamel           22700      3078       735         19622  2007-2019\nCassandra        8159      3117      1316          5042  2009-2019\nFlink           11691      2811       682          8880  2010-2019\nGroovy           8059      1614       573          6445  2003-2019\nHBase            8730      3782      1730          4948  2007-2019\nHDFS             2907      2222       811           685  2009-2019\nHadoop          11964         0         0         11964  2009-2019\nHive             6842      4223      2382          2619  2008-2019\nIgnite          12036      2439       653          9597  2014-2019\nKafka            2384      1115       435          1269  2011-2019\nMapreduce        1321       838       495           483  2009-2019\nSpark            1465       632       130           833  2010-2019\nZeppelin         1451       622       214           829  2013-2019\nZookeeper         839       342       144           497  2007-2019",
      "text/html": "<div>\n<style scoped>\n    .dataframe tbody tr th:only-of-type {\n        vertical-align: middle;\n    }\n\n    .dataframe tbody tr th {\n        vertical-align: top;\n    }\n\n    .dataframe thead th {\n        text-align: right;\n    }\n</style>\n<table border=\"1\" class=\"dataframe\">\n  <thead>\n    <tr style=\"text-align: right;\">\n      <th></th>\n      <th>\\# commits</th>\n      <th>\\# buggy</th>\n      <th>\\# fixes</th>\n      <th>\\# non-buggy</th>\n      <th>year range</th>\n    </tr>\n    <tr>\n      <th>project</th>\n      <th></th>\n      <th></th>\n      <th></th>\n      <th></th>\n      <th></th>\n    </tr>\n  </thead>\n  <tbody>\n    <tr>\n      <th>ActiveMQ</th>\n      <td>6126</td>\n      <td>1404</td>\n      <td>390</td>\n      <td>4722</td>\n      <td>2005-2019</td>\n    </tr>\n    <tr>\n      <th>Camel</th>\n      <td>22700</td>\n      <td>3078</td>\n      <td>735</td>\n      <td>19622</td>\n      <td>2007-2019</td>\n    </tr>\n    <tr>\n      <th>Cassandra</th>\n      <td>8159</td>\n      <td>3117</td>\n      <td>1316</td>\n      <td>5042</td>\n      <td>2009-2019</td>\n    </tr>\n    <tr>\n      <th>Flink</th>\n      <td>11691</td>\n      <td>2811</td>\n      <td>682</td>\n      <td>8880</td>\n      <td>2010-2019</td>\n    </tr>\n    <tr>\n      <th>Groovy</th>\n      <td>8059</td>\n      <td>1614</td>\n      <td>573</td>\n      <td>6445</td>\n      <td>2003-2019</td>\n    </tr>\n    <tr>\n      <th>HBase</th>\n      <td>8730</td>\n      <td>3782</td>\n      <td>1730</td>\n      <td>4948</td>\n      <td>2007-2019</td>\n    </tr>\n    <tr>\n      <th>HDFS</th>\n      <td>2907</td>\n      <td>2222</td>\n      <td>811</td>\n      <td>685</td>\n      <td>2009-2019</td>\n    </tr>\n    <tr>\n      <th>Hadoop</th>\n      <td>11964</td>\n      <td>0</td>\n      <td>0</td>\n      <td>11964</td>\n      <td>2009-2019</td>\n    </tr>\n    <tr>\n      <th>Hive</th>\n      <td>6842</td>\n      <td>4223</td>\n      <td>2382</td>\n      <td>2619</td>\n      <td>2008-2019</td>\n    </tr>\n    <tr>\n      <th>Ignite</th>\n      <td>12036</td>\n      <td>2439</td>\n      <td>653</td>\n      <td>9597</td>\n      <td>2014-2019</td>\n    </tr>\n    <tr>\n      <th>Kafka</th>\n      <td>2384</td>\n      <td>1115</td>\n      <td>435</td>\n      <td>1269</td>\n      <td>2011-2019</td>\n    </tr>\n    <tr>\n      <th>Mapreduce</th>\n      <td>1321</td>\n      <td>838</td>\n      <td>495</td>\n      <td>483</td>\n      <td>2009-2019</td>\n    </tr>\n    <tr>\n      <th>Spark</th>\n      <td>1465</td>\n      <td>632</td>\n      <td>130</td>\n      <td>833</td>\n      <td>2010-2019</td>\n    </tr>\n    <tr>\n      <th>Zeppelin</th>\n      <td>1451</td>\n      <td>622</td>\n      <td>214</td>\n      <td>829</td>\n      <td>2013-2019</td>\n    </tr>\n    <tr>\n      <th>Zookeeper</th>\n      <td>839</td>\n      <td>342</td>\n      <td>144</td>\n      <td>497</td>\n      <td>2007-2019</td>\n    </tr>\n  </tbody>\n</table>\n</div>"
     },
     "execution_count": 33,
     "metadata": {},
     "output_type": "execute_result"
    }
   ],
   "source": [
    "import pandas as pd\n",
    "\n",
    "PROJECT_NAMES = {\n",
    "    'camel': 'Camel',\n",
    "    'ignite': 'Ignite',\n",
    "    'hadoop': 'Hadoop',\n",
    "    'flink': 'Flink',\n",
    "    'hbase': 'HBase',\n",
    "    'cassandra': 'Cassandra',\n",
    "    'groovy': 'Groovy',\n",
    "    'hive': 'Hive',\n",
    "    'activemq': 'ActiveMQ',\n",
    "    'hadoop-hdfs': 'HDFS',\n",
    "    'kafka': 'Kafka',\n",
    "    'spark': 'Spark',\n",
    "    'zeppelin': 'Zeppelin',\n",
    "    'hadoop-mapreduce': 'Mapreduce',\n",
    "    'zookeeper': 'Zookeeper'\n",
    "}\n",
    "\n",
    "COLUMN_NAMES = {\n",
    "    'project': 'Project',\n",
    "    'commit_id': '\\# commits',\n",
    "    'buggy': '\\# buggy',\n",
    "    'fix': '\\# fixes',\n",
    "    'nonbuggy': '\\# non-buggy'\n",
    "}\n",
    "\n",
    "apachejit = pd.read_csv(filepath_or_buffer=\"../data/apache-jit/apachejit_total.csv\").reset_index()\n",
    "apachejit[\"project\"] = apachejit[\"project\"].apply(lambda p: PROJECT_NAMES[p[7:]])\n",
    "apachejit[\"buggy\"] = apachejit[\"buggy\"].apply(lambda p: 1 if p else 0)\n",
    "apachejit[\"fix\"] = apachejit[\"fix\"].apply(lambda p: 1 if p else 0)\n",
    "apachejit[\"nonbuggy\"] = apachejit[\"buggy\"].apply(lambda p: 1 - p)\n",
    "\n",
    "c = apachejit.loc[:, [\"project\", \"commit_id\", \"buggy\", \"fix\", \"nonbuggy\", \"year\"]] \\\n",
    "    .groupby('project') \\\n",
    "    .agg({\"commit_id\": \"count\", \"buggy\": \"sum\", \"fix\": \"sum\", \"nonbuggy\": \"sum\", \"year\": [\"min\", \"max\"]})\\\n",
    "    .rename(mapper=COLUMN_NAMES, axis=\"columns\")\\\n",
    "    .sort_values(by=\"project\", ascending=True)\n",
    "\n",
    "c[\"year range\"] = c[\"year\"][\"min\"].transform(lambda x: str(x) + \"-\") + c[\"year\"][\"max\"].transform(lambda x: str(x))\n",
    "\n",
    "c.drop((\"year\", \"min\"), axis=\"columns\", inplace=True)\n",
    "c.drop((\"year\", \"max\"), axis=\"columns\", inplace=True)\n",
    "c.columns = c.columns.droplevel(1)\n",
    "c\n"
   ]
  }
 ],
 "metadata": {
  "kernelspec": {
   "display_name": "Python 3",
   "language": "python",
   "name": "python3"
  },
  "language_info": {
   "codemirror_mode": {
    "name": "ipython",
    "version": 2
   },
   "file_extension": ".py",
   "mimetype": "text/x-python",
   "name": "python",
   "nbconvert_exporter": "python",
   "pygments_lexer": "ipython2",
   "version": "2.7.6"
  }
 },
 "nbformat": 4,
 "nbformat_minor": 0
}
