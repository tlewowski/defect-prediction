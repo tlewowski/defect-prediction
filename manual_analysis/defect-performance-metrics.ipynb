{
 "cells": [
  {
   "cell_type": "code",
   "execution_count": 11,
   "metadata": {
    "collapsed": true
   },
   "outputs": [
    {
     "data": {
      "text/plain": "                                        real_mcc                      \\\n                                           count      mean       std   \nmodel_type         metric_set                                          \nbasic-linear-ridge all-non-null-numeric    200.0  0.390651  0.006514   \n                   javametrics-numeric     200.0  0.269466  0.008326   \n                   javametrics2            200.0  0.269010  0.015158   \n                   none                    100.0  0.081678  0.007029   \n                   pmd                     200.0  0.143604  0.069873   \n                   process                 200.0  0.399784  0.008685   \n                   product                 200.0  0.224359  0.006625   \n                   pydriller               200.0  0.314228  0.037271   \n\n                                                                       \\\n                                              min       25%       50%   \nmodel_type         metric_set                                           \nbasic-linear-ridge all-non-null-numeric  0.371654  0.386338  0.390192   \n                   javametrics-numeric   0.246148  0.263933  0.269099   \n                   javametrics2          0.233305  0.256439  0.270044   \n                   none                  0.064895  0.077367  0.081238   \n                   pmd                   0.060893  0.074131  0.138304   \n                   process               0.379783  0.393869  0.400303   \n                   product               0.198957  0.220178  0.224493   \n                   pydriller             0.262890  0.277953  0.314851   \n\n                                                             \n                                              75%       max  \nmodel_type         metric_set                                \nbasic-linear-ridge all-non-null-numeric  0.395235  0.407092  \n                   javametrics-numeric   0.275590  0.292650  \n                   javametrics2          0.282661  0.297245  \n                   none                  0.086972  0.097928  \n                   pmd                   0.213397  0.224678  \n                   process               0.405882  0.418828  \n                   product               0.229346  0.238032  \n                   pydriller             0.350077  0.365180  ",
      "text/html": "<div>\n<style scoped>\n    .dataframe tbody tr th:only-of-type {\n        vertical-align: middle;\n    }\n\n    .dataframe tbody tr th {\n        vertical-align: top;\n    }\n\n    .dataframe thead tr th {\n        text-align: left;\n    }\n\n    .dataframe thead tr:last-of-type th {\n        text-align: right;\n    }\n</style>\n<table border=\"1\" class=\"dataframe\">\n  <thead>\n    <tr>\n      <th></th>\n      <th></th>\n      <th colspan=\"8\" halign=\"left\">real_mcc</th>\n    </tr>\n    <tr>\n      <th></th>\n      <th></th>\n      <th>count</th>\n      <th>mean</th>\n      <th>std</th>\n      <th>min</th>\n      <th>25%</th>\n      <th>50%</th>\n      <th>75%</th>\n      <th>max</th>\n    </tr>\n    <tr>\n      <th>model_type</th>\n      <th>metric_set</th>\n      <th></th>\n      <th></th>\n      <th></th>\n      <th></th>\n      <th></th>\n      <th></th>\n      <th></th>\n      <th></th>\n    </tr>\n  </thead>\n  <tbody>\n    <tr>\n      <th rowspan=\"8\" valign=\"top\">basic-linear-ridge</th>\n      <th>all-non-null-numeric</th>\n      <td>200.0</td>\n      <td>0.390651</td>\n      <td>0.006514</td>\n      <td>0.371654</td>\n      <td>0.386338</td>\n      <td>0.390192</td>\n      <td>0.395235</td>\n      <td>0.407092</td>\n    </tr>\n    <tr>\n      <th>javametrics-numeric</th>\n      <td>200.0</td>\n      <td>0.269466</td>\n      <td>0.008326</td>\n      <td>0.246148</td>\n      <td>0.263933</td>\n      <td>0.269099</td>\n      <td>0.275590</td>\n      <td>0.292650</td>\n    </tr>\n    <tr>\n      <th>javametrics2</th>\n      <td>200.0</td>\n      <td>0.269010</td>\n      <td>0.015158</td>\n      <td>0.233305</td>\n      <td>0.256439</td>\n      <td>0.270044</td>\n      <td>0.282661</td>\n      <td>0.297245</td>\n    </tr>\n    <tr>\n      <th>none</th>\n      <td>100.0</td>\n      <td>0.081678</td>\n      <td>0.007029</td>\n      <td>0.064895</td>\n      <td>0.077367</td>\n      <td>0.081238</td>\n      <td>0.086972</td>\n      <td>0.097928</td>\n    </tr>\n    <tr>\n      <th>pmd</th>\n      <td>200.0</td>\n      <td>0.143604</td>\n      <td>0.069873</td>\n      <td>0.060893</td>\n      <td>0.074131</td>\n      <td>0.138304</td>\n      <td>0.213397</td>\n      <td>0.224678</td>\n    </tr>\n    <tr>\n      <th>process</th>\n      <td>200.0</td>\n      <td>0.399784</td>\n      <td>0.008685</td>\n      <td>0.379783</td>\n      <td>0.393869</td>\n      <td>0.400303</td>\n      <td>0.405882</td>\n      <td>0.418828</td>\n    </tr>\n    <tr>\n      <th>product</th>\n      <td>200.0</td>\n      <td>0.224359</td>\n      <td>0.006625</td>\n      <td>0.198957</td>\n      <td>0.220178</td>\n      <td>0.224493</td>\n      <td>0.229346</td>\n      <td>0.238032</td>\n    </tr>\n    <tr>\n      <th>pydriller</th>\n      <td>200.0</td>\n      <td>0.314228</td>\n      <td>0.037271</td>\n      <td>0.262890</td>\n      <td>0.277953</td>\n      <td>0.314851</td>\n      <td>0.350077</td>\n      <td>0.365180</td>\n    </tr>\n  </tbody>\n</table>\n</div>"
     },
     "execution_count": 11,
     "metadata": {},
     "output_type": "execute_result"
    }
   ],
   "source": [
    "import pandas as pd\n",
    "\n",
    "models = pd.read_csv(filepath_or_buffer=\"../defects-workdir/final_defects_stats_experiment_ridge.csv\", sep=\",\")\n",
    "description = models.groupby([\"model_type\", \"metric_set\"]).describe()\n",
    "\n",
    "models.filter([\"model_type\", \"metric_set\", \"real_mcc\"]).groupby([\"model_type\", \"metric_set\"]).describe()\n"
   ]
  },
  {
   "cell_type": "code",
   "execution_count": null,
   "outputs": [],
   "source": [],
   "metadata": {
    "collapsed": false
   }
  }
 ],
 "metadata": {
  "kernelspec": {
   "display_name": "Python 3",
   "language": "python",
   "name": "python3"
  },
  "language_info": {
   "codemirror_mode": {
    "name": "ipython",
    "version": 2
   },
   "file_extension": ".py",
   "mimetype": "text/x-python",
   "name": "python",
   "nbconvert_exporter": "python",
   "pygments_lexer": "ipython2",
   "version": "2.7.6"
  }
 },
 "nbformat": 4,
 "nbformat_minor": 0
}
