{
 "cells": [
  {
   "cell_type": "code",
   "execution_count": 5,
   "id": "initial_id",
   "metadata": {
    "collapsed": true,
    "ExecuteTime": {
     "end_time": "2023-09-17T20:49:40.218898700Z",
     "start_time": "2023-09-17T20:49:32.315251400Z"
    }
   },
   "outputs": [
    {
     "data": {
      "text/plain": "         buggy  JAVAMETRICS2_DaysPassedSinceTheLastChange\n0        False                                        0.0\n1         True                                        0.0\n2         True                                        0.0\n3         True                                        0.0\n4         True                                        0.0\n...        ...                                        ...\n1187398  False                                        NaN\n1187399  False                                        NaN\n1187400  False                                        NaN\n1187401  False                                        NaN\n1187402  False                                        NaN\n\n[1187403 rows x 2 columns]",
      "text/html": "<div>\n<style scoped>\n    .dataframe tbody tr th:only-of-type {\n        vertical-align: middle;\n    }\n\n    .dataframe tbody tr th {\n        vertical-align: top;\n    }\n\n    .dataframe thead th {\n        text-align: right;\n    }\n</style>\n<table border=\"1\" class=\"dataframe\">\n  <thead>\n    <tr style=\"text-align: right;\">\n      <th></th>\n      <th>buggy</th>\n      <th>JAVAMETRICS2_DaysPassedSinceTheLastChange</th>\n    </tr>\n  </thead>\n  <tbody>\n    <tr>\n      <th>0</th>\n      <td>False</td>\n      <td>0.0</td>\n    </tr>\n    <tr>\n      <th>1</th>\n      <td>True</td>\n      <td>0.0</td>\n    </tr>\n    <tr>\n      <th>2</th>\n      <td>True</td>\n      <td>0.0</td>\n    </tr>\n    <tr>\n      <th>3</th>\n      <td>True</td>\n      <td>0.0</td>\n    </tr>\n    <tr>\n      <th>4</th>\n      <td>True</td>\n      <td>0.0</td>\n    </tr>\n    <tr>\n      <th>...</th>\n      <td>...</td>\n      <td>...</td>\n    </tr>\n    <tr>\n      <th>1187398</th>\n      <td>False</td>\n      <td>NaN</td>\n    </tr>\n    <tr>\n      <th>1187399</th>\n      <td>False</td>\n      <td>NaN</td>\n    </tr>\n    <tr>\n      <th>1187400</th>\n      <td>False</td>\n      <td>NaN</td>\n    </tr>\n    <tr>\n      <th>1187401</th>\n      <td>False</td>\n      <td>NaN</td>\n    </tr>\n    <tr>\n      <th>1187402</th>\n      <td>False</td>\n      <td>NaN</td>\n    </tr>\n  </tbody>\n</table>\n<p>1187403 rows × 2 columns</p>\n</div>"
     },
     "execution_count": 5,
     "metadata": {},
     "output_type": "execute_result"
    }
   ],
   "source": [
    "import pandas as pd\n",
    "\n",
    "data = pd.read_csv(filepath_or_buffer=\"../data/merged-defects/prejoined_full.csv\", sep=\",\")\n",
    "\n",
    "relevant = data.filter([\"buggy\", \"JAVAMETRICS2_DaysPassedSinceTheLastChange\"])\n",
    "\n",
    "relevant\n"
   ]
  },
  {
   "cell_type": "code",
   "execution_count": 6,
   "outputs": [
    {
     "data": {
      "text/plain": "      JAVAMETRICS2_DaysPassedSinceTheLastChange                         \\\n                                          count       mean         std   \nbuggy                                                                    \nFalse                                  299069.0   0.252450   31.076611   \nTrue                                   217777.0 -24.242032  189.506755   \n\n                                      \n          min  25%  50%  75%     max  \nbuggy                                 \nFalse -1406.0  0.0  0.0  0.0  2574.0  \nTrue  -1430.0  0.0  0.0  0.0  2994.0  ",
      "text/html": "<div>\n<style scoped>\n    .dataframe tbody tr th:only-of-type {\n        vertical-align: middle;\n    }\n\n    .dataframe tbody tr th {\n        vertical-align: top;\n    }\n\n    .dataframe thead tr th {\n        text-align: left;\n    }\n\n    .dataframe thead tr:last-of-type th {\n        text-align: right;\n    }\n</style>\n<table border=\"1\" class=\"dataframe\">\n  <thead>\n    <tr>\n      <th></th>\n      <th colspan=\"8\" halign=\"left\">JAVAMETRICS2_DaysPassedSinceTheLastChange</th>\n    </tr>\n    <tr>\n      <th></th>\n      <th>count</th>\n      <th>mean</th>\n      <th>std</th>\n      <th>min</th>\n      <th>25%</th>\n      <th>50%</th>\n      <th>75%</th>\n      <th>max</th>\n    </tr>\n    <tr>\n      <th>buggy</th>\n      <th></th>\n      <th></th>\n      <th></th>\n      <th></th>\n      <th></th>\n      <th></th>\n      <th></th>\n      <th></th>\n    </tr>\n  </thead>\n  <tbody>\n    <tr>\n      <th>False</th>\n      <td>299069.0</td>\n      <td>0.252450</td>\n      <td>31.076611</td>\n      <td>-1406.0</td>\n      <td>0.0</td>\n      <td>0.0</td>\n      <td>0.0</td>\n      <td>2574.0</td>\n    </tr>\n    <tr>\n      <th>True</th>\n      <td>217777.0</td>\n      <td>-24.242032</td>\n      <td>189.506755</td>\n      <td>-1430.0</td>\n      <td>0.0</td>\n      <td>0.0</td>\n      <td>0.0</td>\n      <td>2994.0</td>\n    </tr>\n  </tbody>\n</table>\n</div>"
     },
     "execution_count": 6,
     "metadata": {},
     "output_type": "execute_result"
    }
   ],
   "source": [
    "relevant.groupby(\"buggy\").describe()"
   ],
   "metadata": {
    "collapsed": false,
    "ExecuteTime": {
     "end_time": "2023-09-17T20:50:23.119805300Z",
     "start_time": "2023-09-17T20:50:22.951390400Z"
    }
   },
   "id": "1a6576a0636266ae"
  }
 ],
 "metadata": {
  "kernelspec": {
   "display_name": "Python 3",
   "language": "python",
   "name": "python3"
  },
  "language_info": {
   "codemirror_mode": {
    "name": "ipython",
    "version": 2
   },
   "file_extension": ".py",
   "mimetype": "text/x-python",
   "name": "python",
   "nbconvert_exporter": "python",
   "pygments_lexer": "ipython2",
   "version": "2.7.6"
  }
 },
 "nbformat": 4,
 "nbformat_minor": 5
}
